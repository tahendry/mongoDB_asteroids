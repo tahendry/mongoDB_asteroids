{
 "cells": [
  {
   "attachments": {},
   "cell_type": "markdown",
   "metadata": {},
   "source": [
    "**Title**: Asteroid Flybys\n",
    "\n",
    "**Author**: Reto Hendry\n",
    "\n",
    "**Course**: NoSQL Lab with Python & MongoDB"
   ]
  },
  {
   "attachments": {},
   "cell_type": "markdown",
   "metadata": {},
   "source": [
    "![description](C:\\Users\\retoh\\switchdrive\\Studium_Master\\04_FS23\\noSQL_Lab\\project\\images\\earth_asteroid.jpg)\n"
   ]
  },
  {
   "attachments": {},
   "cell_type": "markdown",
   "metadata": {},
   "source": [
    "Source: https://www.chron.com/news/space/article/nasa-asteroid-passing-earth-17853976.php"
   ]
  },
  {
   "cell_type": "markdown",
   "metadata": {},
   "source": [
    "\\newpage"
   ]
  },
  {
   "attachments": {},
   "cell_type": "markdown",
   "metadata": {
    "toc": true
   },
   "source": [
    "# Table of Contents\n"
   ]
  },
  {
   "attachments": {},
   "cell_type": "markdown",
   "metadata": {},
   "source": [
    "- [2 Introduction and Motivation](#Introduction-and-Motivation)\n",
    "- [3 Requirements and Configuration](#Requirements-and-Configuration)\n",
    "- [4 ELT Process](#ELT-Process)\n",
    "  * [4.1 DB Setup](#DB-Setup)\n",
    "  * [4.2 Extract](#Extract)\n",
    "  * [4.3 Load](#Load)\n",
    "  * [4.4 Transform](#Transform)\n",
    "  * [4.5 Some minor quality checks](#Some-minor-quality-checks)\n",
    "  * [4.6 Data structure](#Data-structure)\n",
    "- [5 Data analysis](#Data-analysis)\n",
    "  * [5.1 Get a feeling for asteroids](#Get-a-feeling-for-asteroids)\n",
    "  * [5.2 Close approach count](#Close-approach-count)\n",
    "  * [5.3 Brightest asteroids](#Brightest-asteroids)\n",
    "- [6 Conclusions and Outlook](#Conclusions-and-Outlook)\n",
    "- [7 Learnings](#Learnings)"
   ]
  },
  {
   "cell_type": "markdown",
   "metadata": {},
   "source": [
    "\\newpage"
   ]
  },
  {
   "attachments": {},
   "cell_type": "markdown",
   "metadata": {},
   "source": [
    "# Introduction and Motivation"
   ]
  },
  {
   "attachments": {},
   "cell_type": "markdown",
   "metadata": {
    "hide_input": true
   },
   "source": [
    "The used API in this small project work in the noSQL course provides information about asteroids which have a close approach to our planet - the Earth.\n",
    "\n",
    "Since I have a big telescope (Dobson: 1.2 meter length, 0.2m diameter) in my vacation-flat in the mountains this API is perfect to figure out when I should take it out during the next two years to see my first asteroid through my telescope.\n",
    "\n",
    "With that said, the goal is to discover the asteroid dataset, find interesting fact about them and determine the night I should \"asteroid\"-gaze."
   ]
  },
  {
   "cell_type": "markdown",
   "metadata": {},
   "source": [
    "\\newpage"
   ]
  },
  {
   "attachments": {},
   "cell_type": "markdown",
   "metadata": {},
   "source": [
    "#  Requirements and Configuration"
   ]
  },
  {
   "cell_type": "code",
   "execution_count": 514,
   "metadata": {},
   "outputs": [
    {
     "name": "stdout",
     "output_type": "stream",
     "text": [
      "dnspython                         2.3.0\n",
      "pandas                            1.5.3\n",
      "pymongo                           4.3.3\n"
     ]
    }
   ],
   "source": [
    "! pip3 list | findstr \"pymongo dnspython pandas\""
   ]
  },
  {
   "cell_type": "code",
   "execution_count": 1,
   "metadata": {},
   "outputs": [],
   "source": [
    "import pymongo\n",
    "import pprint as pp\n",
    "import pandas as pd\n",
    "import requests\n",
    "import json\n",
    "import time\n",
    "import string\n",
    "import tqdm as tqdm\n",
    "import random\n",
    "import matplotlib.pyplot as plt\n",
    "import configparser"
   ]
  },
  {
   "cell_type": "code",
   "execution_count": 516,
   "metadata": {},
   "outputs": [],
   "source": [
    "# pandas display configuration\n",
    "pd.set_option('display.precision', 2)\n",
    "pd.set_option('display.max_rows', 30)\n",
    "pd.set_option('display.max_colwidth', 50)"
   ]
  },
  {
   "cell_type": "code",
   "execution_count": 2,
   "metadata": {},
   "outputs": [],
   "source": [
    "# API details\n",
    "# note: the API needs a start date and an API key (end date it 7 days after start date by default)\n",
    "config = configparser.ConfigParser()\n",
    "config.read('config.ini')\n",
    "\n",
    "API_KEY = config['api']['api_key']\n",
    "\n",
    "def get_API(start_date=\"2023-04-01\"):\n",
    "    START_DATE = start_date  # YYYY-MM-DD\n",
    "    API_URL = f\"https://api.nasa.gov/neo/rest/v1/feed?start_date={START_DATE}&api_key={API_KEY}\"\n",
    "\n",
    "    return API_URL\n",
    "\n",
    "\n",
    "# mongoDB details\n",
    "CNX_STR = API_KEY = config['mongoDB_conection']['cnx_str']\n",
    "DB_NAME = \"Asteroids_DB\"\n",
    "COLL_NAME = \"asteroids\""
   ]
  },
  {
   "cell_type": "markdown",
   "metadata": {},
   "source": [
    "\\newpage"
   ]
  },
  {
   "attachments": {},
   "cell_type": "markdown",
   "metadata": {},
   "source": [
    "# ELT Process"
   ]
  },
  {
   "attachments": {},
   "cell_type": "markdown",
   "metadata": {},
   "source": [
    "## DB Setup"
   ]
  },
  {
   "cell_type": "code",
   "execution_count": 519,
   "metadata": {},
   "outputs": [],
   "source": [
    "# connection to MongoDB\n",
    "client = pymongo.MongoClient(CNX_STR)\n",
    "db = client[DB_NAME]\n",
    "ast = db[COLL_NAME]"
   ]
  },
  {
   "cell_type": "code",
   "execution_count": 520,
   "metadata": {},
   "outputs": [
    {
     "data": {
      "text/plain": [
       "{'version': '5.0.15',\n",
       " 'gitVersion': '935639beed3d0c19c2551c93854b831107c0b118',\n",
       " 'modules': ['enterprise'],\n",
       " 'allocator': 'tcmalloc',\n",
       " 'javascriptEngine': 'mozjs',\n",
       " 'sysInfo': 'deprecated',\n",
       " 'versionArray': [5, 0, 15, 0],\n",
       " 'bits': 64,\n",
       " 'debug': False,\n",
       " 'maxBsonObjectSize': 16777216,\n",
       " 'storageEngines': ['devnull',\n",
       "  'ephemeralForTest',\n",
       "  'inMemory',\n",
       "  'queryable_wt',\n",
       "  'wiredTiger'],\n",
       " 'ok': 1.0,\n",
       " '$clusterTime': {'clusterTime': Timestamp(1680806843, 28),\n",
       "  'signature': {'hash': b'k4\\x87\\xe1Oj\\x89wL\\x0c\\x16\\x14lL\\xfbI~\\x1d\\xcf\\xcc',\n",
       "   'keyId': 7181751485795926018}},\n",
       " 'operationTime': Timestamp(1680806843, 28)}"
      ]
     },
     "execution_count": 520,
     "metadata": {},
     "output_type": "execute_result"
    }
   ],
   "source": [
    "# show server info\n",
    "client.server_info()"
   ]
  },
  {
   "cell_type": "code",
   "execution_count": 521,
   "metadata": {},
   "outputs": [
    {
     "name": "stdout",
     "output_type": "stream",
     "text": [
      "Documents before drop: 7424\n",
      "Documents after drop: 0\n"
     ]
    }
   ],
   "source": [
    "# count and drop already existing documents in the database\n",
    "print(f\"Documents before drop: {ast.count_documents({})}\")\n",
    "ast.drop()\n",
    "print(f\"Documents after drop: {ast.count_documents({})}\")"
   ]
  },
  {
   "cell_type": "markdown",
   "metadata": {},
   "source": [
    "\\newpage"
   ]
  },
  {
   "attachments": {},
   "cell_type": "markdown",
   "metadata": {},
   "source": [
    "##  Extract"
   ]
  },
  {
   "cell_type": "code",
   "execution_count": 523,
   "metadata": {},
   "outputs": [],
   "source": [
    "# Check how the structure of the API looks like\n",
    "answer = requests.get(get_API())\n",
    "# pp.pprint(answer.json())\n",
    "# the output is shown as a figure in the report, since otherwise it would be too long in the pdf printout"
   ]
  },
  {
   "attachments": {},
   "cell_type": "markdown",
   "metadata": {},
   "source": [
    "![description](C:\\Users\\retoh\\switchdrive\\Studium_Master\\04_FS23\\noSQL_Lab\\project\\images\\request_output.jpg)\n"
   ]
  },
  {
   "attachments": {},
   "cell_type": "markdown",
   "metadata": {},
   "source": [
    "The following explanation of the data selection is done by looking at the data as if it were a python dictionary: After looking at the structure of the data, it is clear that the only valuable content is inside the key \"near_earth_object\" and there again, inside the date key (here \"2023-04-01\"). The date key itself is not needed, since the information of the date is provided in the \"close_approach_date\" key, inside the list of the key \"close_approach_data\" too. \n",
    "\n",
    "To extract the data needed, a loop is needed which changes the start date of the API request every iteration. I decided to analyze asteroid flybys for the next 2 years. To later save the data into mongoDB, the documents requested will be saved into a list iteratively. Only the needed information of the requested json-file will be added to the list as a document. "
   ]
  },
  {
   "attachments": {},
   "cell_type": "markdown",
   "metadata": {},
   "source": [
    "Since the data is less than 200 MB, it is possible to store the requested data in memory of the computer and load them into the mongoDB. Otherwise one possible solution would have been to store the data into files on the computer in a first step. Then iteratively, read the data into python, transform and load them up into the mongoDB."
   ]
  },
  {
   "cell_type": "code",
   "execution_count": 212,
   "metadata": {},
   "outputs": [
    {
     "name": "stderr",
     "output_type": "stream",
     "text": [
      "100%|██████████| 92/92 [22:15<00:00, 14.51s/it]\n"
     ]
    }
   ],
   "source": [
    "# create a list of dates with an 8 day interval\n",
    "date_list = (pd.date_range(start=\"2023-04-01\", end=\"2025-04-01\", freq=\"8D\")\n",
    "                .strftime(\"%Y-%m-%d\")\n",
    "                .tolist()\n",
    "            )\n",
    "\n",
    "# create a list of documents with the data from the API\n",
    "asteroid_list = []\n",
    "for k, date in enumerate(tqdm.tqdm(date_list)):\n",
    "    # if the API is called too fast, it will return an error\n",
    "    time.sleep(random.randint(10, 15))\n",
    "    answer = requests.get(get_API(date))\n",
    "    # loop through the 7 days\n",
    "    for i in answer.json()[\"near_earth_objects\"]:\n",
    "        asteroid_count = len(answer.json()[\"near_earth_objects\"][i])\n",
    "        # loop through the asteroids of each day\n",
    "        for j in range(asteroid_count):\n",
    "            # append each asteroid to the list\n",
    "            asteroid_list.append(answer.json()[\"near_earth_objects\"][i][j])"
   ]
  },
  {
   "cell_type": "code",
   "execution_count": 524,
   "metadata": {},
   "outputs": [
    {
     "name": "stdout",
     "output_type": "stream",
     "text": [
      "first date: 2023-04-01\n",
      "last date: 2025-04-05\n",
      "days in the set: 736\n",
      "number of days in this time period: 736\n"
     ]
    }
   ],
   "source": [
    "# Quick check if every date (\"close_approach_date\") is in the list\n",
    "date_list = [i[\"close_approach_data\"][0][\"close_approach_date\"] for i in asteroid_list]\n",
    "date_set = sorted(set(date_list))\n",
    "first_date = date_set[0]\n",
    "last_date = date_set[-1]\n",
    "print(f\"first date: {first_date}\",\n",
    "      f\"last date: {last_date}\",\n",
    "      sep=\"\\n\")\n",
    "\n",
    "# count the number of days between 2000-01-01 and 2050-01-01\n",
    "day_count = len(pd.date_range(start=first_date, end=last_date, freq=\"D\")\n",
    "                .strftime(\"%Y-%m-%d\").tolist())\n",
    "\n",
    "print(f\"days in the set: {len(date_set)}\",\n",
    "      f\"number of days in this time period: {day_count}\",\n",
    "      sep=\"\\n\")\n",
    "\n",
    "assert len(date_set) == day_count, \"Not every day was requested from the API\""
   ]
  },
  {
   "cell_type": "code",
   "execution_count": 552,
   "metadata": {},
   "outputs": [],
   "source": [
    "# save the data_list to a json file (for backup)\n",
    "# with open(\"asteroid_list.json\", \"w\") as f:\n",
    "#     json.dump(asteroid_list, f)"
   ]
  },
  {
   "cell_type": "code",
   "execution_count": 530,
   "metadata": {},
   "outputs": [
    {
     "name": "stdout",
     "output_type": "stream",
     "text": [
      "{'_id': ObjectId('642c7ab38da3f7e0511c7139'),\n",
      " 'absolute_magnitude_h': 17.54,\n",
      " 'close_approach_data': [{'close_approach_date': '2023-04-01',\n",
      "                          'close_approach_date_full': '2023-Apr-01 03:37',\n",
      "                          'epoch_date_close_approach': 1680320220000,\n",
      "                          'miss_distance': {'astronomical': '0.2394279959',\n",
      "                                            'kilometers': '35817918.205008733',\n",
      "                                            'lunar': '93.1374904051',\n",
      "                                            'miles': '22256222.3378491954'},\n",
      "                          'orbiting_body': 'Earth',\n",
      "                          'relative_velocity': {'kilometers_per_hour': '44539.9893358747',\n",
      "                                                'kilometers_per_second': '12.37221926',\n",
      "                                                'miles_per_hour': '27675.4172626162'}}],\n",
      " 'estimated_diameter': {'feet': {'estimated_diameter_max': 6053.7576380301,\n",
      "                                 'estimated_diameter_min': 2707.3227195888},\n",
      "                        'kilometers': {'estimated_diameter_max': 1.845185269,\n",
      "                                       'estimated_diameter_min': 0.8251919385},\n",
      "                        'meters': {'estimated_diameter_max': 1845.1852690256,\n",
      "                                   'estimated_diameter_min': 825.1919385245},\n",
      "                        'miles': {'estimated_diameter_max': 1.1465446158,\n",
      "                                  'estimated_diameter_min': 0.51275034}},\n",
      " 'id': '2069230',\n",
      " 'is_potentially_hazardous_asteroid': True,\n",
      " 'is_sentry_object': False,\n",
      " 'links': {'self': 'http://api.nasa.gov/neo/rest/v1/neo/2069230?api_key=NMQoMv7qt5ITn4e07X8vdx0wKAS3gWPeaUamizTJ'},\n",
      " 'name': '69230 Hermes (1937 UB)',\n",
      " 'nasa_jpl_url': 'http://ssd.jpl.nasa.gov/sbdb.cgi?sstr=2069230',\n",
      " 'neo_reference_id': '2069230'}\n"
     ]
    }
   ],
   "source": [
    "# print the first document (dictionary) of the list\n",
    "pp.pprint(asteroid_list[0])"
   ]
  },
  {
   "attachments": {},
   "cell_type": "markdown",
   "metadata": {},
   "source": [
    "The document (dictionary) looks nice and only contains the part needed. However, there are still some type errors and unnecessary fields in the document, which will be treated in the transform phase later on."
   ]
  },
  {
   "cell_type": "markdown",
   "metadata": {},
   "source": [
    "\\newpage"
   ]
  },
  {
   "attachments": {},
   "cell_type": "markdown",
   "metadata": {},
   "source": [
    "## Load"
   ]
  },
  {
   "attachments": {},
   "cell_type": "markdown",
   "metadata": {},
   "source": [
    "After requesting the data and having it stored in memory, the data is now loaded into the mongoDB."
   ]
  },
  {
   "cell_type": "code",
   "execution_count": 531,
   "metadata": {},
   "outputs": [
    {
     "name": "stderr",
     "output_type": "stream",
     "text": [
      "100%|██████████| 8/8 [01:41<00:00, 12.72s/it]\n"
     ]
    }
   ],
   "source": [
    "# insert data into mongoDB chunk by chunk with 1000 documents each\n",
    "# (without the chunk by chunk method, an error occurred)\n",
    "\n",
    "asteroid_chunk_list = [asteroid_list[i:i + 1000] for i in range(0, len(asteroid_list), 1000)]\n",
    "\n",
    "# insert the chunks into mongoDB\n",
    "for chunk in tqdm.tqdm(asteroid_chunk_list):\n",
    "    ast.insert_many(chunk)\n",
    "    time.sleep(10)"
   ]
  },
  {
   "cell_type": "code",
   "execution_count": 532,
   "metadata": {},
   "outputs": [
    {
     "name": "stdout",
     "output_type": "stream",
     "text": [
      "Documents in the database: 7424\n"
     ]
    }
   ],
   "source": [
    "# check the number of documents in the database\n",
    "print(f\"Documents in the database: {ast.count_documents({})}\")"
   ]
  },
  {
   "cell_type": "code",
   "execution_count": 533,
   "metadata": {},
   "outputs": [
    {
     "name": "stdout",
     "output_type": "stream",
     "text": [
      "{'_id': ObjectId('642c7ab38da3f7e0511c7139'),\n",
      " 'absolute_magnitude_h': 17.54,\n",
      " 'close_approach_data': [{'close_approach_date': '2023-04-01',\n",
      "                          'close_approach_date_full': '2023-Apr-01 03:37',\n",
      "                          'epoch_date_close_approach': 1680320220000,\n",
      "                          'miss_distance': {'astronomical': '0.2394279959',\n",
      "                                            'kilometers': '35817918.205008733',\n",
      "                                            'lunar': '93.1374904051',\n",
      "                                            'miles': '22256222.3378491954'},\n",
      "                          'orbiting_body': 'Earth',\n",
      "                          'relative_velocity': {'kilometers_per_hour': '44539.9893358747',\n",
      "                                                'kilometers_per_second': '12.37221926',\n",
      "                                                'miles_per_hour': '27675.4172626162'}}],\n",
      " 'estimated_diameter': {'feet': {'estimated_diameter_max': 6053.7576380301,\n",
      "                                 'estimated_diameter_min': 2707.3227195888},\n",
      "                        'kilometers': {'estimated_diameter_max': 1.845185269,\n",
      "                                       'estimated_diameter_min': 0.8251919385},\n",
      "                        'meters': {'estimated_diameter_max': 1845.1852690256,\n",
      "                                   'estimated_diameter_min': 825.1919385245},\n",
      "                        'miles': {'estimated_diameter_max': 1.1465446158,\n",
      "                                  'estimated_diameter_min': 0.51275034}},\n",
      " 'id': '2069230',\n",
      " 'is_potentially_hazardous_asteroid': True,\n",
      " 'is_sentry_object': False,\n",
      " 'links': {'self': 'http://api.nasa.gov/neo/rest/v1/neo/2069230?api_key=NMQoMv7qt5ITn4e07X8vdx0wKAS3gWPeaUamizTJ'},\n",
      " 'name': '69230 Hermes (1937 UB)',\n",
      " 'nasa_jpl_url': 'http://ssd.jpl.nasa.gov/sbdb.cgi?sstr=2069230',\n",
      " 'neo_reference_id': '2069230'}\n"
     ]
    }
   ],
   "source": [
    "# get the first document from MongoDB\n",
    "pp.pprint(ast.find_one())"
   ]
  },
  {
   "attachments": {},
   "cell_type": "markdown",
   "metadata": {},
   "source": [
    "As shown in the output, also when calling a document from the mongoDB, the document looks as expected. "
   ]
  },
  {
   "cell_type": "markdown",
   "metadata": {},
   "source": [
    "\\newpage"
   ]
  },
  {
   "attachments": {},
   "cell_type": "markdown",
   "metadata": {},
   "source": [
    "## Transform"
   ]
  },
  {
   "attachments": {},
   "cell_type": "markdown",
   "metadata": {},
   "source": [
    "As already mentioned above, some fields are not needed for the analysis. To keep the size of a document as small as possible, those fields will be removed. \n",
    "\n",
    "Some numerical fields are stored as strings. They will be changed to integers or doubles. "
   ]
  },
  {
   "cell_type": "code",
   "execution_count": 534,
   "metadata": {},
   "outputs": [
    {
     "data": {
      "text/plain": [
       "<pymongo.results.UpdateResult at 0x1f5f3f93b50>"
      ]
     },
     "execution_count": 534,
     "metadata": {},
     "output_type": "execute_result"
    }
   ],
   "source": [
    "# remove the links from all the documents since they are not needed\n",
    "ast.update_many({}, \n",
    "                {\"$unset\": {\"links\": \"\"}})\n",
    "\n",
    "# remove \"epoch_date_close_approach\" since it is not needed\n",
    "ast.update_many({}, {\n",
    "    \"$unset\": {\"close_approach_data.0.epoch_date_close_approach\": \"\"}\n",
    "})\n",
    "\n",
    "# remove all the irrelevant units from \"miss_distance\"\n",
    "ast.update_many({}, {\n",
    "    \"$unset\": {\"close_approach_data.0.miss_distance.astronomical\": \"\"}\n",
    "})\n",
    "ast.update_many({}, {\n",
    "    \"$unset\": {\"close_approach_data.0.miss_distance.miles\": \"\"}\n",
    "})\n",
    "\n",
    "# remove all the irrelevant units from \"relative_velocity\"\n",
    "ast.update_many({}, {\n",
    "    \"$unset\": {\"close_approach_data.0.relative_velocity.miles_per_hour\": \"\"}\n",
    "})\n",
    "\n",
    "# remove all the irrelevant units from \"estimated_diameter\"\n",
    "ast.update_many({}, {\n",
    "    \"$unset\": {\"estimated_diameter.feet\": \"\"}\n",
    "})\n",
    "ast.update_many({}, {\n",
    "    \"$unset\": {\"estimated_diameter.miles\": \"\"}\n",
    "})"
   ]
  },
  {
   "attachments": {},
   "cell_type": "markdown",
   "metadata": {},
   "source": [
    "Change the types of string fields which should be integers or floats."
   ]
  },
  {
   "cell_type": "code",
   "execution_count": 535,
   "metadata": {},
   "outputs": [
    {
     "data": {
      "text/plain": [
       "<pymongo.results.UpdateResult at 0x1f5fa3cfc10>"
      ]
     },
     "execution_count": 535,
     "metadata": {},
     "output_type": "execute_result"
    }
   ],
   "source": [
    "# change the type of \"id\" and \"neo_reference_id\" from string to int\n",
    "ast.update_many({}, [{\"$set\": {\"id\": {\"$toInt\": \"$id\"}}}])\n",
    "ast.update_many({}, [{\"$set\": {\"neo_reference_id\": {\"$toInt\": \"$neo_reference_id\"}}}])\n",
    "\n",
    "# the next 4 were tricky, since the fields to change are nested in an object.\n",
    "# thanks to Oliver for helping with this!\n",
    "\n",
    "# change the field \"kilometers\" and \"lunar\" in the object \"miss distance\" \n",
    "# from string to float\n",
    "ast.update_many({},[\n",
    "    {\"$addFields\": {\"x\": {\"$first\": \"$close_approach_data\"}} },\n",
    "    {\"$set\": {\"x\":{\"$toDouble\": \"$x.miss_distance.kilometers\"}}},\n",
    "    {\"$set\": {\"close_approach_data.miss_distance.kilometers\": \"$x\"}},\n",
    "    {\"$unset\": \"x\"}\n",
    "])\n",
    "\n",
    "ast.update_many({},[\n",
    "    {\"$addFields\": {\"x\": {\"$first\": \"$close_approach_data\"}} },\n",
    "    {\"$set\": {\"x\":{\"$toDouble\": \"$x.miss_distance.lunar\"}}},\n",
    "    {\"$set\": {\"close_approach_data.miss_distance.lunar\": \"$x\"}},\n",
    "    {\"$unset\": \"x\"}\n",
    "])\n",
    "\n",
    "# change the filed \"kilometers_per_hour\" and \"kilometers_per_second\" in the object\n",
    "# \"relative_velocity\" from string to float\n",
    "ast.update_many({},[\n",
    "    {\"$addFields\": {\"x\": {\"$first\": \"$close_approach_data\"}} },\n",
    "    {\"$set\": {\"x\":{\"$toDouble\": \"$x.relative_velocity.kilometers_per_hour\"}}},\n",
    "    {\"$set\": {\"close_approach_data.relative_velocity.kilometers_per_hour\": \"$x\"}},\n",
    "    {\"$unset\": \"x\"}\n",
    "])\n",
    "\n",
    "ast.update_many({},[\n",
    "    {\"$addFields\": {\"x\": {\"$first\": \"$close_approach_data\"}} },\n",
    "    {\"$set\": {\"x\":{\"$toDouble\": \"$x.relative_velocity.kilometers_per_second\"}}},\n",
    "    {\"$set\": {\"close_approach_data.relative_velocity.kilometers_per_second\": \"$x\"}},\n",
    "    {\"$unset\": \"x\"}\n",
    "])\n"
   ]
  },
  {
   "cell_type": "markdown",
   "metadata": {},
   "source": [
    "The \"id\" and \"neo_reference_id\" seem to be the same. This will be check, if it actually always it the same. If it is, the \"neo_reference_id\" will be removed from the document."
   ]
  },
  {
   "cell_type": "code",
   "execution_count": 536,
   "metadata": {},
   "outputs": [],
   "source": [
    "# check how many times \"id\" and \"neo_reference_id\" are different\n",
    "different_id_count = ast.count_documents({\n",
    "    \"$expr\": {\"$ne\": [\"$id\", \"$neo_reference_id\"]}\n",
    "})\n",
    "\n",
    "if different_id_count == 0:\n",
    "    # delete the field \"neo_reference_id\" since it is not needed\n",
    "    ast.update_many({}, {\"$unset\": {\"neo_reference_id\": \"\"}})"
   ]
  },
  {
   "cell_type": "code",
   "execution_count": 537,
   "metadata": {},
   "outputs": [
    {
     "name": "stdout",
     "output_type": "stream",
     "text": [
      "{'_id': ObjectId('642c7ab38da3f7e0511c7139'),\n",
      " 'absolute_magnitude_h': 17.54,\n",
      " 'close_approach_data': [{'close_approach_date': '2023-04-01',\n",
      "                          'close_approach_date_full': '2023-Apr-01 03:37',\n",
      "                          'miss_distance': {'kilometers': 35817918.20500873,\n",
      "                                            'lunar': 93.1374904051},\n",
      "                          'orbiting_body': 'Earth',\n",
      "                          'relative_velocity': {'kilometers_per_hour': 44539.9893358747,\n",
      "                                                'kilometers_per_second': 12.37221926}}],\n",
      " 'estimated_diameter': {'kilometers': {'estimated_diameter_max': 1.845185269,\n",
      "                                       'estimated_diameter_min': 0.8251919385},\n",
      "                        'meters': {'estimated_diameter_max': 1845.1852690256,\n",
      "                                   'estimated_diameter_min': 825.1919385245}},\n",
      " 'id': 2069230,\n",
      " 'is_potentially_hazardous_asteroid': True,\n",
      " 'is_sentry_object': False,\n",
      " 'name': '69230 Hermes (1937 UB)',\n",
      " 'nasa_jpl_url': 'http://ssd.jpl.nasa.gov/sbdb.cgi?sstr=2069230'}\n"
     ]
    }
   ],
   "source": [
    "# check document structure after the transformation\n",
    "pp.pprint(ast.find_one())"
   ]
  },
  {
   "attachments": {},
   "cell_type": "markdown",
   "metadata": {},
   "source": [
    "Now the document only contains the needed information from my point of view. Of course one could make the document even more minimalistic, but for now, this is all right. "
   ]
  },
  {
   "cell_type": "markdown",
   "metadata": {},
   "source": [
    "\\newpage"
   ]
  },
  {
   "attachments": {},
   "cell_type": "markdown",
   "metadata": {},
   "source": [
    "## Some minor quality checks"
   ]
  },
  {
   "cell_type": "code",
   "execution_count": 538,
   "metadata": {},
   "outputs": [
    {
     "name": "stdout",
     "output_type": "stream",
     "text": [
      "No documents with more than one element in the 'close_approach_data' array\n"
     ]
    }
   ],
   "source": [
    "# get all the documents where the \"close_approach_data\" array has more than one element\n",
    "plus_size_array = ast.count_documents({\n",
    "    \"close_approach_data\": {\"$size\": 2}\n",
    "})\n",
    "\n",
    "if plus_size_array == 0:\n",
    "    print(\"No documents with more than one element in the 'close_approach_data' array\")"
   ]
  },
  {
   "cell_type": "code",
   "execution_count": 539,
   "metadata": {},
   "outputs": [
    {
     "name": "stdout",
     "output_type": "stream",
     "text": [
      "0 documents deleted\n"
     ]
    }
   ],
   "source": [
    "# check if there are any documents with empty string or None in the field \"id\"\n",
    "# if one is found, print the document and delete it\n",
    "empty_id_count = ast.count_documents({\"id\": {\"$in\": [\"\", None]}})\n",
    "\n",
    "if empty_id_count > 0:\n",
    "    for doc in ast.find({\"id\": {\"$in\": [\"\", None]}}):\n",
    "        pp.pprint(doc)\n",
    "        ast.delete_one({\"_id\": doc[\"_id\"]})\n",
    "            \n",
    "print(f\"{empty_id_count} documents deleted\")"
   ]
  },
  {
   "cell_type": "code",
   "execution_count": 540,
   "metadata": {},
   "outputs": [
    {
     "name": "stdout",
     "output_type": "stream",
     "text": [
      "Duplicates found\n",
      "             0        1         2        3        4\n",
      "count        5        5         5        5        5\n",
      "id     3843427  3824978  54194978  2519354  3763284 \n",
      "\n",
      "{'close_approach_data': [{'close_approach_date_full': '2023-Apr-06 09:13'}],\n",
      " 'id': 3843427,\n",
      " 'name': '(2019 OV3)'}\n",
      "{'close_approach_data': [{'close_approach_date_full': '2023-Sep-26 04:14'}],\n",
      " 'id': 3843427,\n",
      " 'name': '(2019 OV3)'}\n",
      "{'close_approach_data': [{'close_approach_date_full': '2024-Mar-18 02:35'}],\n",
      " 'id': 3843427,\n",
      " 'name': '(2019 OV3)'}\n",
      "{'close_approach_data': [{'close_approach_date_full': '2024-Oct-09 16:52'}],\n",
      " 'id': 3843427,\n",
      " 'name': '(2019 OV3)'}\n",
      "{'close_approach_data': [{'close_approach_date_full': '2025-Feb-27 06:41'}],\n",
      " 'id': 3843427,\n",
      " 'name': '(2019 OV3)'}\n"
     ]
    }
   ],
   "source": [
    "# check for duplicates in the id field\n",
    "pipeline = [\n",
    "    {\"$group\": {\"_id\": \"$id\", \"count\": {\"$sum\": 1}}},\n",
    "    {\"$match\": {\"count\": {\"$gt\": 1}}},\n",
    "    {\"$project\": {\"id\": \"$_id\", \"_id\": 0, \"count\": 1}},\n",
    "    {\"$sort\": {\"count\": -1}}\n",
    "]\n",
    "\n",
    "result = ast.aggregate(pipeline)\n",
    "df = pd.DataFrame(result).head()\n",
    "\n",
    "if len(df) > 0:\n",
    "    print(\"Duplicates found\")\n",
    "    print(df.T, \"\\n\")\n",
    "    dup = ast.find({\"id\": int(df.loc[0, \"id\"])},\n",
    "                   {\"_id\": 0, \"id\": 1, \"name\": 1, \n",
    "                   \"close_approach_data.close_approach_date_full\": 1})\n",
    "    for doc in dup:\n",
    "        pp.pprint(doc)\n",
    "\n",
    "else:\n",
    "    print(\"No duplicates found in the 'id' field\")\n",
    "    nbr_unique_id = ast.distinct(\"id\")\n",
    "    print(\"There are {} unique id values\".format(len(nbr_unique_id)))"
   ]
  },
  {
   "attachments": {},
   "cell_type": "markdown",
   "metadata": {},
   "source": [
    "As it can be see, duplicates are present in the *id* field. However, when looking at the documents where the *id* is the same, it can be observed, that it is not the same approach of the asteroid. Therefore the duplicates of the *id* fields will not be deleted. In other words, these are not the same documents, they only have the same *id*."
   ]
  },
  {
   "cell_type": "code",
   "execution_count": 541,
   "metadata": {},
   "outputs": [
    {
     "name": "stdout",
     "output_type": "stream",
     "text": [
      "0 documents with wrong estimated_diameter_min/estimated_diameter_max relation\n"
     ]
    }
   ],
   "source": [
    "# check if the \"estimated_diameter_min\" and \"estimated_diameter_max\" are correctly related\n",
    "# (min has to be smaller than max)\n",
    "# note: $expr has to be used to compare numerical values\n",
    "false_relation_count = ast.count_documents({\n",
    "        \"$expr\":{\n",
    "                \"$lte\": [\n",
    "                        \"$estimated_diameter.meters.estimated_diameter_max\",\n",
    "                        \"$estimated_diameter.meters.estimated_diameter_min\"\n",
    "                ]\n",
    "        }\n",
    "})\n",
    "\n",
    "print(f\"{false_relation_count} documents with wrong estimated_diameter_min/estimated_diameter_max relation\")"
   ]
  },
  {
   "cell_type": "markdown",
   "metadata": {},
   "source": [
    "\\newpage"
   ]
  },
  {
   "attachments": {},
   "cell_type": "markdown",
   "metadata": {},
   "source": [
    "## Data structure"
   ]
  },
  {
   "attachments": {},
   "cell_type": "markdown",
   "metadata": {},
   "source": [
    "After transforming the data, this is how the diagram of the document structure looks. It contains the entire structure with all its information."
   ]
  },
  {
   "attachments": {},
   "cell_type": "markdown",
   "metadata": {},
   "source": [
    "![description](C:\\Users\\retoh\\switchdrive\\Studium_Master\\04_FS23\\noSQL_Lab\\project\\images\\data_structer_diagram_V04.png)\n"
   ]
  },
  {
   "cell_type": "markdown",
   "metadata": {},
   "source": [
    "\\newpage"
   ]
  },
  {
   "attachments": {},
   "cell_type": "markdown",
   "metadata": {},
   "source": [
    "# Data analysis"
   ]
  },
  {
   "attachments": {},
   "cell_type": "markdown",
   "metadata": {},
   "source": [
    "**In this analysis, the following questions should be answered:**\n",
    "\n",
    "- extreme values of the asteroids to get a feeling about them\n",
    "\n",
    "- how many asteroids have a close approach to earth during the next 2 years and how many of them are classified as hazardous\n",
    "\n",
    "- which ones are the brightest 15 and when can they be seen. Also add a few key information to it.\n",
    "\n",
    "- check if there is a pattern between hazardous and non-hazardous asteroids"
   ]
  },
  {
   "attachments": {},
   "cell_type": "markdown",
   "metadata": {},
   "source": [
    "## Get a feeling for asteroids"
   ]
  },
  {
   "attachments": {},
   "cell_type": "markdown",
   "metadata": {},
   "source": [
    "What are the minimum and maximum values of the interesting fields such as diameter, speed, miss distance, ect.. Each asteroid with such an \"extreme\" value will be inserted into a new collection called \"extreme_asteroids\"."
   ]
  },
  {
   "cell_type": "code",
   "execution_count": 542,
   "metadata": {},
   "outputs": [
    {
     "data": {
      "text/plain": [
       "0"
      ]
     },
     "execution_count": 542,
     "metadata": {},
     "output_type": "execute_result"
    }
   ],
   "source": [
    "# create a new collection for the documents with the extreme values\n",
    "extreme = db[\"extreme_asteroids\"]\n",
    "extreme.delete_many({})\n",
    "extreme.count_documents({})"
   ]
  },
  {
   "cell_type": "code",
   "execution_count": 543,
   "metadata": {},
   "outputs": [
    {
     "name": "stdout",
     "output_type": "stream",
     "text": [
      "\n",
      "DuplicateKeyError:\n",
      "The asteroids with the minimal and maximal \"estimated_diameter_min\" \n",
      "and \"estimated_diameter_max\" are exactly the same.\n",
      "\n"
     ]
    }
   ],
   "source": [
    "field_list = [\n",
    "    \"close_approach_data.miss_distance.lunar\", \n",
    "    \"close_approach_data.relative_velocity.kilometers_per_second\",\n",
    "    \"estimated_diameter.kilometers.estimated_diameter_min\",\n",
    "    \"estimated_diameter.kilometers.estimated_diameter_max\"\n",
    "]                                   \n",
    "\n",
    "for field in field_list:\n",
    "    pipeline = [\n",
    "        {\"$unwind\": \"$close_approach_data\"},  # not every time needed (but no harm)\n",
    "        {\"$sort\": {field: 1}},\n",
    "        {\"$group\": {\n",
    "            \"_id\": \"null\",\n",
    "            \"min_doc\": {\"$first\": \"$$ROOT\"},  # $$ROOT contains the source documents\n",
    "            \"max_doc\": {\"$last\": \"$$ROOT\"}\n",
    "        }},\n",
    "        {\"$project\": {\n",
    "            \"_id\": 0,\n",
    "            \"min_doc\": 1,\n",
    "            \"max_doc\": 1\n",
    "        }}\n",
    "    ]\n",
    "\n",
    "    ans = ast.aggregate(pipeline)\n",
    "\n",
    "    for answer in ans:\n",
    "        try:\n",
    "            extreme.insert_one(answer[\"min_doc\"])\n",
    "            extreme.insert_one(answer[\"max_doc\"])\n",
    "        except pymongo.errors.DuplicateKeyError:\n",
    "            print(\n",
    "\"\"\"\n",
    "DuplicateKeyError:\n",
    "The asteroids with the minimal and maximal \"estimated_diameter_min\" \n",
    "and \"estimated_diameter_max\" are exactly the same.\n",
    "\"\"\"\n",
    "            )\n"
   ]
  },
  {
   "cell_type": "code",
   "execution_count": 544,
   "metadata": {},
   "outputs": [
    {
     "data": {
      "text/html": [
       "<div>\n",
       "<style scoped>\n",
       "    .dataframe tbody tr th:only-of-type {\n",
       "        vertical-align: middle;\n",
       "    }\n",
       "\n",
       "    .dataframe tbody tr th {\n",
       "        vertical-align: top;\n",
       "    }\n",
       "\n",
       "    .dataframe thead th {\n",
       "        text-align: right;\n",
       "    }\n",
       "</style>\n",
       "<table border=\"1\" class=\"dataframe\">\n",
       "  <thead>\n",
       "    <tr style=\"text-align: right;\">\n",
       "      <th></th>\n",
       "      <th>id</th>\n",
       "      <th>miss_dist [lunar]</th>\n",
       "      <th>vel [km/s]</th>\n",
       "      <th>diam min [km]</th>\n",
       "      <th>diam max [km]</th>\n",
       "      <th>magnitude</th>\n",
       "    </tr>\n",
       "  </thead>\n",
       "  <tbody>\n",
       "    <tr>\n",
       "      <th>0</th>\n",
       "      <td>3398066</td>\n",
       "      <td>1.1588</td>\n",
       "      <td>4.7659</td>\n",
       "      <td>0.0101</td>\n",
       "      <td>0.0226</td>\n",
       "      <td>27.1000</td>\n",
       "    </tr>\n",
       "    <tr>\n",
       "      <th>1</th>\n",
       "      <td>3669357</td>\n",
       "      <td>194.4812</td>\n",
       "      <td>19.9933</td>\n",
       "      <td>0.0058</td>\n",
       "      <td>0.0130</td>\n",
       "      <td>28.3000</td>\n",
       "    </tr>\n",
       "    <tr>\n",
       "      <th>2</th>\n",
       "      <td>54024339</td>\n",
       "      <td>141.2080</td>\n",
       "      <td>0.9401</td>\n",
       "      <td>0.2469</td>\n",
       "      <td>0.5521</td>\n",
       "      <td>20.1600</td>\n",
       "    </tr>\n",
       "    <tr>\n",
       "      <th>3</th>\n",
       "      <td>2343158</td>\n",
       "      <td>189.3456</td>\n",
       "      <td>78.6574</td>\n",
       "      <td>1.4810</td>\n",
       "      <td>3.3116</td>\n",
       "      <td>16.2700</td>\n",
       "    </tr>\n",
       "    <tr>\n",
       "      <th>4</th>\n",
       "      <td>3989456</td>\n",
       "      <td>36.2519</td>\n",
       "      <td>19.3498</td>\n",
       "      <td>0.0008</td>\n",
       "      <td>0.0018</td>\n",
       "      <td>32.5600</td>\n",
       "    </tr>\n",
       "    <tr>\n",
       "      <th>5</th>\n",
       "      <td>2001036</td>\n",
       "      <td>145.5238</td>\n",
       "      <td>16.3344</td>\n",
       "      <td>38.2433</td>\n",
       "      <td>85.5145</td>\n",
       "      <td>9.2100</td>\n",
       "    </tr>\n",
       "  </tbody>\n",
       "</table>\n",
       "</div>"
      ],
      "text/plain": [
       "         id  miss_dist [lunar]  vel [km/s]  diam min [km]  diam max [km]  \\\n",
       "0   3398066             1.1588      4.7659         0.0101         0.0226   \n",
       "1   3669357           194.4812     19.9933         0.0058         0.0130   \n",
       "2  54024339           141.2080      0.9401         0.2469         0.5521   \n",
       "3   2343158           189.3456     78.6574         1.4810         3.3116   \n",
       "4   3989456            36.2519     19.3498         0.0008         0.0018   \n",
       "5   2001036           145.5238     16.3344        38.2433        85.5145   \n",
       "\n",
       "   magnitude  \n",
       "0    27.1000  \n",
       "1    28.3000  \n",
       "2    20.1600  \n",
       "3    16.2700  \n",
       "4    32.5600  \n",
       "5     9.2100  "
      ]
     },
     "execution_count": 544,
     "metadata": {},
     "output_type": "execute_result"
    }
   ],
   "source": [
    "# print the documents with the extreme values\n",
    "pipeline = [\n",
    "    {\"$unwind\": \"$close_approach_data\"},\n",
    "    {\"$project\": {\n",
    "        \"_id\": 0,\n",
    "        \"id\": 1,\n",
    "        \"miss_dist [lunar]\": \"$close_approach_data.miss_distance.lunar\", \n",
    "        \"vel [km/s]\": \"$close_approach_data.relative_velocity.kilometers_per_second\",\n",
    "        \"diam min [km]\": \"$estimated_diameter.kilometers.estimated_diameter_min\",\n",
    "        \"diam max [km]\": \"$estimated_diameter.kilometers.estimated_diameter_max\",\n",
    "        \"magnitude\": \"$absolute_magnitude_h\"\n",
    "    }}\n",
    "]\n",
    "\n",
    "pd.set_option('display.float_format', lambda x: '%.4f' % x)\n",
    "\n",
    "result = extreme.aggregate(pipeline)\n",
    "df = pd.DataFrame(result)\n",
    "df"
   ]
  },
  {
   "cell_type": "code",
   "execution_count": 545,
   "metadata": {},
   "outputs": [
    {
     "name": "stdout",
     "output_type": "stream",
     "text": [
      "The maximum miss lunar distance is 194.4812.\n",
      "The minimum miss lunar distance is 1.1588.\n",
      "note: 1 lunar distance is the distance between the earth and the moon.\n",
      "The maximum velocity is 78.6574 kilometers per second.\n",
      "The minimum velocity is 0.9401 kilometers per second.\n",
      "The maximum diameter is 85.5145 kilometers, which is 6.71 times the diameter of the Earth.\n",
      "The minimum diameter is 0.0008 kilometers, which is only 0.8176 meters.\n"
     ]
    }
   ],
   "source": [
    "print(\n",
    "    f\"The maximum miss lunar distance is {df['miss_dist [lunar]'].max():.4f}.\",\n",
    "    f\"The minimum miss lunar distance is {df['miss_dist [lunar]'].min():.4f}.\",\n",
    "    \"note: 1 lunar distance is the distance between the earth and the moon.\",\n",
    "    f\"The maximum velocity is {df['vel [km/s]'].max():.4f} kilometers per second.\",\n",
    "    f\"The minimum velocity is {df['vel [km/s]'].min():.4f} kilometers per second.\",\n",
    "    f\"The maximum diameter is {df['diam max [km]'].max():.4f} kilometers, which is {df['diam max [km]'].max()/12.742:.2f} times the diameter of the Earth.\",\n",
    "    f\"The minimum diameter is {df['diam min [km]'].min():.4f} kilometers, which is only {df['diam min [km]'].min()*1000:.4f} meters.\",\n",
    "    sep = \"\\n\"\n",
    ")"
   ]
  },
  {
   "attachments": {},
   "cell_type": "markdown",
   "metadata": {},
   "source": [
    "The asteroid with the biggest diameter is also the brightest one during those two years, as shown below."
   ]
  },
  {
   "cell_type": "code",
   "execution_count": 546,
   "metadata": {},
   "outputs": [],
   "source": [
    "pd.set_option('display.float_format', lambda x: '%.2e' % x)"
   ]
  },
  {
   "cell_type": "markdown",
   "metadata": {},
   "source": [
    "\\newpage"
   ]
  },
  {
   "attachments": {},
   "cell_type": "markdown",
   "metadata": {},
   "source": [
    "## Close approach count"
   ]
  },
  {
   "attachments": {},
   "cell_type": "markdown",
   "metadata": {},
   "source": [
    "How many asteroids have a close approach to the earth during the next two years?"
   ]
  },
  {
   "cell_type": "code",
   "execution_count": 547,
   "metadata": {},
   "outputs": [
    {
     "data": {
      "text/html": [
       "<div>\n",
       "<style scoped>\n",
       "    .dataframe tbody tr th:only-of-type {\n",
       "        vertical-align: middle;\n",
       "    }\n",
       "\n",
       "    .dataframe tbody tr th {\n",
       "        vertical-align: top;\n",
       "    }\n",
       "\n",
       "    .dataframe thead th {\n",
       "        text-align: right;\n",
       "    }\n",
       "</style>\n",
       "<table border=\"1\" class=\"dataframe\">\n",
       "  <thead>\n",
       "    <tr style=\"text-align: right;\">\n",
       "      <th></th>\n",
       "      <th>count</th>\n",
       "    </tr>\n",
       "  </thead>\n",
       "  <tbody>\n",
       "    <tr>\n",
       "      <th>0</th>\n",
       "      <td>5522</td>\n",
       "    </tr>\n",
       "  </tbody>\n",
       "</table>\n",
       "</div>"
      ],
      "text/plain": [
       "   count\n",
       "0   5522"
      ]
     },
     "execution_count": 547,
     "metadata": {},
     "output_type": "execute_result"
    }
   ],
   "source": [
    "# count the number of unique asteroids approaching Earth\n",
    "pipeline = [\n",
    "    {\"$group\": {\"_id\": \"$name\"}},\n",
    "    {\"$group\": {\"_id\": \"null\", \"count\": {\"$sum\": 1}}},\n",
    "    {\"$project\": {\"count\": 1, \"_id\": 0}}\n",
    "]\n",
    "\n",
    "ans = ast.aggregate(pipeline)\n",
    "pd.DataFrame(ans)"
   ]
  },
  {
   "cell_type": "code",
   "execution_count": 548,
   "metadata": {},
   "outputs": [
    {
     "data": {
      "text/html": [
       "<div>\n",
       "<style scoped>\n",
       "    .dataframe tbody tr th:only-of-type {\n",
       "        vertical-align: middle;\n",
       "    }\n",
       "\n",
       "    .dataframe tbody tr th {\n",
       "        vertical-align: top;\n",
       "    }\n",
       "\n",
       "    .dataframe thead th {\n",
       "        text-align: right;\n",
       "    }\n",
       "</style>\n",
       "<table border=\"1\" class=\"dataframe\">\n",
       "  <thead>\n",
       "    <tr style=\"text-align: right;\">\n",
       "      <th></th>\n",
       "      <th>count</th>\n",
       "    </tr>\n",
       "  </thead>\n",
       "  <tbody>\n",
       "    <tr>\n",
       "      <th>0</th>\n",
       "      <td>574</td>\n",
       "    </tr>\n",
       "  </tbody>\n",
       "</table>\n",
       "</div>"
      ],
      "text/plain": [
       "   count\n",
       "0    574"
      ]
     },
     "execution_count": 548,
     "metadata": {},
     "output_type": "execute_result"
    }
   ],
   "source": [
    "# count the number of unique asteroids approaching Earth which are potentially hazardous\n",
    "pipeline = [\n",
    "    {\"$match\": {\"is_potentially_hazardous_asteroid\": True}},\n",
    "    {\"$group\": {\"_id\": \"$name\"}},\n",
    "    {\"$group\": {\"_id\": \"null\", \"count\": {\"$sum\": 1}}},\n",
    "    {\"$project\": {\"count\": 1, \"_id\": 0}}\n",
    "]\n",
    "\n",
    "ans = ast.aggregate(pipeline)\n",
    "pd.DataFrame(ans)"
   ]
  },
  {
   "cell_type": "code",
   "execution_count": 549,
   "metadata": {},
   "outputs": [
    {
     "data": {
      "text/plain": [
       "7424"
      ]
     },
     "execution_count": 549,
     "metadata": {},
     "output_type": "execute_result"
    }
   ],
   "source": [
    "# count the number of documents\n",
    "ast.count_documents({})"
   ]
  },
  {
   "attachments": {},
   "cell_type": "markdown",
   "metadata": {},
   "source": [
    "There are 7424 documents, asteroid approaches respectively during the next 2 years. The number of unique asteroids approaching Earth is 5522 and 574 of them are potentially hazardous."
   ]
  },
  {
   "cell_type": "markdown",
   "metadata": {},
   "source": [
    "\\newpage"
   ]
  },
  {
   "attachments": {},
   "cell_type": "markdown",
   "metadata": {},
   "source": [
    "## Brightest asteroids"
   ]
  },
  {
   "attachments": {},
   "cell_type": "markdown",
   "metadata": {},
   "source": [
    "Note: Magnitude is a measure of a star's brightness as seen from Earth. It is expressed using a numerical scale where lower numbers indicate brighter stars. The brightest star in the night sky, Sirius, has a magnitude of -1.4, while the faintest stars visible to the naked eye have a magnitude of around +6.5. The scale is logarithmic, meaning that a difference of 1 magnitude corresponds to a difference in brightness of about 2.5 times."
   ]
  },
  {
   "cell_type": "code",
   "execution_count": 550,
   "metadata": {},
   "outputs": [
    {
     "data": {
      "text/html": [
       "<div>\n",
       "<style scoped>\n",
       "    .dataframe tbody tr th:only-of-type {\n",
       "        vertical-align: middle;\n",
       "    }\n",
       "\n",
       "    .dataframe tbody tr th {\n",
       "        vertical-align: top;\n",
       "    }\n",
       "\n",
       "    .dataframe thead th {\n",
       "        text-align: right;\n",
       "    }\n",
       "</style>\n",
       "<table border=\"1\" class=\"dataframe\">\n",
       "  <thead>\n",
       "    <tr style=\"text-align: right;\">\n",
       "      <th></th>\n",
       "      <th>id</th>\n",
       "      <th>magnitude</th>\n",
       "      <th>date_n_time</th>\n",
       "      <th>dist_lunar</th>\n",
       "      <th>hazardous</th>\n",
       "    </tr>\n",
       "  </thead>\n",
       "  <tbody>\n",
       "    <tr>\n",
       "      <th>0</th>\n",
       "      <td>2001036</td>\n",
       "      <td>9.21e+00</td>\n",
       "      <td>2024-Oct-13 01:56</td>\n",
       "      <td>1.46e+02</td>\n",
       "      <td>False</td>\n",
       "    </tr>\n",
       "    <tr>\n",
       "      <th>1</th>\n",
       "      <td>2004954</td>\n",
       "      <td>1.26e+01</td>\n",
       "      <td>2024-Oct-11 05:00</td>\n",
       "      <td>9.43e+01</td>\n",
       "      <td>False</td>\n",
       "    </tr>\n",
       "    <tr>\n",
       "      <th>2</th>\n",
       "      <td>2000887</td>\n",
       "      <td>1.38e+01</td>\n",
       "      <td>2025-Jan-08 13:40</td>\n",
       "      <td>3.20e+01</td>\n",
       "      <td>False</td>\n",
       "    </tr>\n",
       "    <tr>\n",
       "      <th>3</th>\n",
       "      <td>2003122</td>\n",
       "      <td>1.39e+01</td>\n",
       "      <td>2024-Oct-01 03:49</td>\n",
       "      <td>1.48e+02</td>\n",
       "      <td>True</td>\n",
       "    </tr>\n",
       "    <tr>\n",
       "      <th>4</th>\n",
       "      <td>2001685</td>\n",
       "      <td>1.43e+01</td>\n",
       "      <td>2024-Jan-20 20:46</td>\n",
       "      <td>5.18e+01</td>\n",
       "      <td>False</td>\n",
       "    </tr>\n",
       "    <tr>\n",
       "      <th>5</th>\n",
       "      <td>2021088</td>\n",
       "      <td>1.43e+01</td>\n",
       "      <td>2024-Jul-22 17:06</td>\n",
       "      <td>1.35e+02</td>\n",
       "      <td>False</td>\n",
       "    </tr>\n",
       "    <tr>\n",
       "      <th>6</th>\n",
       "      <td>2066146</td>\n",
       "      <td>1.44e+01</td>\n",
       "      <td>2024-Nov-05 19:47</td>\n",
       "      <td>3.46e+01</td>\n",
       "      <td>False</td>\n",
       "    </tr>\n",
       "    <tr>\n",
       "      <th>7</th>\n",
       "      <td>2137170</td>\n",
       "      <td>1.47e+01</td>\n",
       "      <td>2025-Mar-03 18:59</td>\n",
       "      <td>8.88e+01</td>\n",
       "      <td>False</td>\n",
       "    </tr>\n",
       "    <tr>\n",
       "      <th>8</th>\n",
       "      <td>2001864</td>\n",
       "      <td>1.48e+01</td>\n",
       "      <td>2024-Aug-13 15:16</td>\n",
       "      <td>1.92e+02</td>\n",
       "      <td>False</td>\n",
       "    </tr>\n",
       "    <tr>\n",
       "      <th>9</th>\n",
       "      <td>2030825</td>\n",
       "      <td>1.48e+01</td>\n",
       "      <td>2024-May-01 22:35</td>\n",
       "      <td>8.70e+01</td>\n",
       "      <td>False</td>\n",
       "    </tr>\n",
       "    <tr>\n",
       "      <th>10</th>\n",
       "      <td>2005332</td>\n",
       "      <td>1.49e+01</td>\n",
       "      <td>2025-Jan-26 21:07</td>\n",
       "      <td>1.23e+02</td>\n",
       "      <td>False</td>\n",
       "    </tr>\n",
       "    <tr>\n",
       "      <th>11</th>\n",
       "      <td>2481032</td>\n",
       "      <td>1.53e+01</td>\n",
       "      <td>2024-May-27 12:52</td>\n",
       "      <td>1.27e+02</td>\n",
       "      <td>False</td>\n",
       "    </tr>\n",
       "    <tr>\n",
       "      <th>12</th>\n",
       "      <td>2154453</td>\n",
       "      <td>1.53e+01</td>\n",
       "      <td>2023-Aug-01 18:28</td>\n",
       "      <td>1.36e+02</td>\n",
       "      <td>False</td>\n",
       "    </tr>\n",
       "    <tr>\n",
       "      <th>13</th>\n",
       "      <td>2002201</td>\n",
       "      <td>1.53e+01</td>\n",
       "      <td>2024-Nov-28 01:39</td>\n",
       "      <td>1.85e+02</td>\n",
       "      <td>True</td>\n",
       "    </tr>\n",
       "    <tr>\n",
       "      <th>14</th>\n",
       "      <td>2005731</td>\n",
       "      <td>1.54e+01</td>\n",
       "      <td>2023-May-04 09:06</td>\n",
       "      <td>1.46e+02</td>\n",
       "      <td>False</td>\n",
       "    </tr>\n",
       "  </tbody>\n",
       "</table>\n",
       "</div>"
      ],
      "text/plain": [
       "         id  magnitude        date_n_time  dist_lunar  hazardous\n",
       "0   2001036   9.21e+00  2024-Oct-13 01:56    1.46e+02      False\n",
       "1   2004954   1.26e+01  2024-Oct-11 05:00    9.43e+01      False\n",
       "2   2000887   1.38e+01  2025-Jan-08 13:40    3.20e+01      False\n",
       "3   2003122   1.39e+01  2024-Oct-01 03:49    1.48e+02       True\n",
       "4   2001685   1.43e+01  2024-Jan-20 20:46    5.18e+01      False\n",
       "5   2021088   1.43e+01  2024-Jul-22 17:06    1.35e+02      False\n",
       "6   2066146   1.44e+01  2024-Nov-05 19:47    3.46e+01      False\n",
       "7   2137170   1.47e+01  2025-Mar-03 18:59    8.88e+01      False\n",
       "8   2001864   1.48e+01  2024-Aug-13 15:16    1.92e+02      False\n",
       "9   2030825   1.48e+01  2024-May-01 22:35    8.70e+01      False\n",
       "10  2005332   1.49e+01  2025-Jan-26 21:07    1.23e+02      False\n",
       "11  2481032   1.53e+01  2024-May-27 12:52    1.27e+02      False\n",
       "12  2154453   1.53e+01  2023-Aug-01 18:28    1.36e+02      False\n",
       "13  2002201   1.53e+01  2024-Nov-28 01:39    1.85e+02       True\n",
       "14  2005731   1.54e+01  2023-May-04 09:06    1.46e+02      False"
      ]
     },
     "execution_count": 550,
     "metadata": {},
     "output_type": "execute_result"
    }
   ],
   "source": [
    "pipeline = [\n",
    "    {\"$sort\": {\"absolute_magnitude_h\": 1}},\n",
    "    {\"$limit\": 15},\n",
    "    {\"$unwind\": \"$close_approach_data\"},\n",
    "    {\"$project\": {\n",
    "        \"id\": 1, \n",
    "        \"magnitude\": \"$absolute_magnitude_h\", \n",
    "        \"date_n_time\": \"$close_approach_data.close_approach_date_full\", \n",
    "        \"dist_lunar\": \"$close_approach_data.miss_distance.lunar\",\n",
    "        \"hazardous\": \"$is_potentially_hazardous_asteroid\",\n",
    "        \"_id\": 0\n",
    "    }}\n",
    "]\n",
    "\n",
    "ans = ast.aggregate(pipeline)\n",
    "df = pd.DataFrame(ans)\n",
    "df"
   ]
  },
  {
   "cell_type": "code",
   "execution_count": 555,
   "metadata": {},
   "outputs": [
    {
     "data": {
      "image/png": "[encoded data removed]",
      "text/plain": [
       "<Figure size 800x300 with 1 Axes>"
      ]
     },
     "metadata": {},
     "output_type": "display_data"
    }
   ],
   "source": [
    "# create plot with the closest asteroids\n",
    "fig, ax = plt.subplots(figsize=(8, 3))\n",
    "\n",
    "# change the format of the date\n",
    "df[\"date_n_time\"] = pd.to_datetime(df[\"date_n_time\"], format=\"%Y-%b-%d %H:%M\")\n",
    "\n",
    "# create the plot\n",
    "ax.scatter(df.loc[df[\"hazardous\"]==1,\"date_n_time\"], df.loc[df[\"hazardous\"]==1,\"magnitude\"], color=\"red\")\n",
    "ax.scatter(df.loc[df[\"hazardous\"]==0,\"date_n_time\"], df.loc[df[\"hazardous\"]==0,\"magnitude\"], color=\"blue\")\n",
    "\n",
    "ax.set_xlabel(\"Date and time of closest approach\")\n",
    "ax.set_ylabel(\"Magnitude\")\n",
    "ax.set_title(\"15 brightest asteroids approaching Earth during the next 2 years\")\n",
    "ax.tick_params(axis=\"x\", rotation=90)\n",
    "ax.legend([\"hazardous\", \"not hazardous\"])\n",
    "ax.grid()\n",
    "\n",
    "plt.show()"
   ]
  },
  {
   "attachments": {},
   "cell_type": "markdown",
   "metadata": {},
   "source": [
    "The plot shows, it will be hard to observe asteroids this year. The ones this year are very rare (only two) and they are not bright. A better time for asteroid-gazing will be in October 2024, since there is the brightest asteroid during the next two years as well as more asteroids to observe in general. Interestingly, one of those during October 2024 is potentially hazardous as well. "
   ]
  },
  {
   "cell_type": "markdown",
   "metadata": {},
   "source": [
    "\\newpage"
   ]
  },
  {
   "attachments": {},
   "cell_type": "markdown",
   "metadata": {},
   "source": [
    "# Conclusions and Outlook"
   ]
  },
  {
   "attachments": {},
   "cell_type": "markdown",
   "metadata": {},
   "source": [
    "**Conclusion**: This API brings quite some potential for some interesting analysis. Unfortunately during the next two years, it is not clear whether I will be able to see an asteroid through my telescope. The problem is to find it in the sky, since none of them is visible by the naked eye. The smallest asteroid is not even 1 meter in diameter, whereas the biggest in diameter is 85.5145 kilometers, which is 6.71 times the diameter of the Earth. The velocities of the asteroids range from roughly 1 to 79 kilometers per second which is not really imaginable. The asteroid with the maximum speed would orbit the earth in almost exactly 2 seconds.\n",
    "\n",
    "**Outlook**: At the end of the project when my time started to run out due to the time needed for my master thesis, the project started to really make fun. Especially when I started to look at the numbers and graphs. Once my master thesis is handed in, I might do some further work on it. For sure I will extend the time period to find an asteroid which han be seen from the naked eye. "
   ]
  },
  {
   "attachments": {},
   "cell_type": "markdown",
   "metadata": {},
   "source": [
    "# Learnings"
   ]
  },
  {
   "attachments": {},
   "cell_type": "markdown",
   "metadata": {
    "hide_input": true
   },
   "source": [
    "**SQL**: It is not such a damn struggle as we were thought in the Database Management Course (which was horrible). It is actually quite doable and really useful. Also the combination with python works really well. After my masters degree, I will continue to learn SQL on DataCamp since I realized that it really important and not as hard. \n",
    "\n",
    "**noSQL - mongoDB**: The noSQL database handling is actually not too hard and comes with quite some freedom. Once the syntax of pymongo gets more familiar, it is also not that hard to do pipelines. A big learning for me was especially when and how to use databases in general and what the advantages are. I did not understand the difference between a csv and a database at the beginning of this course. It now makes all sense why databases and database management is so important. I also learned and realized (in mongoDB at least) that setting up a database in the cloud and connecting to it via python is quite straight forward and easy.\n",
    "\n",
    "**Print to PDF**: I have worked entirely with minicona and conda environments. As an IDE I used Visual Studio Code, which is the best IDE for me by far. It can also run Jupyter Notebooks and easily change the environments. To print the pdf is also relatively convenient, just install MiKTeX onto your computer. Except one thing cost my hours to get it work; the images have to be inserted in markdown cells as markdown code. The catch is, when printing the notebook to a pdf, the path needs to be absolute and not relative! Therefore the notebook will not show the image anymore, but it will appear in the generated pdf. Note: On Linux, the abs path works either way. Another mistake happened as I finally wanted to print the pdf again 4 hours before hand in which cost me another 2 hours; Do not und the \"&\" sign in titles and in the table of content."
   ]
  }
 ],
 "metadata": {
  "kernelspec": {
   "display_name": "env_noSQL",
   "language": "python",
   "name": "python3"
  },
  "language_info": {
   "codemirror_mode": {
    "name": "ipython",
    "version": 3
   },
   "file_extension": ".py",
   "mimetype": "text/x-python",
   "name": "python",
   "nbconvert_exporter": "python",
   "pygments_lexer": "ipython3",
   "version": "3.10.9"
  },
  "toc": {
   "base_numbering": 1,
   "nav_menu": {},
   "number_sections": true,
   "sideBar": false,
   "skip_h1_title": true,
   "title_cell": "Table of Contents",
   "title_sidebar": "Contents",
   "toc_cell": true,
   "toc_position": {
    "height": "47px",
    "left": "116px",
    "top": "166.125px",
    "width": "280px"
   },
   "toc_section_display": true,
   "toc_window_display": false
  },
  "varInspector": {
   "cols": {
    "lenName": 16,
    "lenType": 16,
    "lenVar": 40
   },
   "kernels_config": {
    "python": {
     "delete_cmd_postfix": "",
     "delete_cmd_prefix": "del ",
     "library": "var_list.py",
     "varRefreshCmd": "print(var_dic_list())"
    },
    "r": {
     "delete_cmd_postfix": ") ",
     "delete_cmd_prefix": "rm(",
     "library": "var_list.r",
     "varRefreshCmd": "cat(var_dic_list()) "
    }
   },
   "types_to_exclude": [
    "module",
    "function",
    "builtin_function_or_method",
    "instance",
    "_Feature"
   ],
   "window_display": false
  },
  "vscode": {
   "interpreter": {
    "hash": "3273794f392cc83d2340dadae486549444f7a807fc3ce387a232db5c4e87de7b"
   }
  }
 },
 "nbformat": 4,
 "nbformat_minor": 4
}
